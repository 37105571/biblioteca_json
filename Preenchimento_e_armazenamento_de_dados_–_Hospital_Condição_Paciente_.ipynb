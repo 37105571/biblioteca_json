{
  "cells": [
    {
      "cell_type": "markdown",
      "metadata": {
        "id": "view-in-github",
        "colab_type": "text"
      },
      "source": [
        "<a href=\"https://colab.research.google.com/github/37105571/biblioteca_json/blob/main/Preenchimento_e_armazenamento_de_dados_%E2%80%93_Hospital_Condi%C3%A7%C3%A3o_Paciente_.ipynb\" target=\"_parent\"><img src=\"https://colab.research.google.com/assets/colab-badge.svg\" alt=\"Open In Colab\"/></a>"
      ]
    },
    {
      "cell_type": "code",
      "source": [
        "import json\n",
        "\n",
        "def calcular_mews(fr, fc, pa_sistolica, temp):\n",
        "    pontos = 0\n",
        "    pontos += 1 if not (16 <= fr <= 20) else 0\n",
        "    pontos += 1 if not (51 <= fc <= 100) else 0\n",
        "    pontos += 1 if not (101 <= pa_sistolica <= 139) else 0\n",
        "    pontos += 1 if not (36.0 <= temp <= 37.2) else 0\n",
        "\n",
        "    if pontos <= 1:\n",
        "        return \"MEWS: 6 horas\"\n",
        "    elif pontos <= 2:\n",
        "        return \"MEWS: 4 horas\"\n",
        "    else:\n",
        "        return \"MEWS: 2 horas\"\n",
        "\n",
        "def coletar_dados_paciente():\n",
        "    pacientes = []\n",
        "    num_pacientes = int(input(\"Informe o número de pacientes (entre 3 e 5): \"))\n",
        "    if num_pacientes < 3 or num_pacientes > 5:\n",
        "        print(\"Número inválido de pacientes.\")\n",
        "        return\n",
        "\n",
        "    for i in range(num_pacientes):\n",
        "        print(f\"Paciente {i+1}:\")\n",
        "        condicao = input(\"Informe a condição do paciente (Checklist, Pré-operatório, Alta): \").strip().capitalize()\n",
        "        paciente = {\"condicao\": condicao}\n",
        "\n",
        "        if condicao == \"Checklist\" or condicao == \"Alta\":\n",
        "            paciente[\"informacoes\"] = input(\"Informe os detalhes: \")\n",
        "        elif condicao == \"Pré-operatório\":\n",
        "            paciente[\"leito\"] = input(\"Leito: \")\n",
        "            paciente[\"nome\"] = input(\"Nome do Paciente: \")\n",
        "            paciente[\"cirurgia\"] = input(\"Cirurgia: \")\n",
        "            paciente[\"alergia\"] = input(\"Alergia: \")\n",
        "            paciente[\"comorbidades\"] = input(\"Comorbidades: \")\n",
        "            paciente[\"dieta\"] = input(\"Dieta: \")\n",
        "            paciente[\"jejum\"] = input(\"Jejum: \")\n",
        "            paciente[\"levante\"] = input(\"Levante: \")\n",
        "            paciente[\"diurese\"] = input(\"Diurese: \")\n",
        "            paciente[\"pulseira_id\"] = input(\"Pulseira-ID: \")\n",
        "            paciente[\"avp\"] = input(\"AVP: \")\n",
        "            paciente[\"banho\"] = input(\"Banho: \")\n",
        "            paciente[\"adonos\"] = input(\"Adonos: \")\n",
        "            paciente[\"kanban\"] = input(\"Kanban: \")\n",
        "            paciente[\"fc\"] = int(input(\"FC: \"))\n",
        "            paciente[\"fr\"] = int(input(\"FR: \"))\n",
        "            paciente[\"sat\"] = input(\"SAT: \")\n",
        "            paciente[\"pa\"] = input(\"PA: \")\n",
        "            paciente[\"pa_sistolica\"] = int(input(\"PA-SISTÓLICA: \"))\n",
        "            paciente[\"temperatura\"] = float(input(\"T°: \"))\n",
        "            paciente[\"nivel_consciencia\"] = input(\"Nível de Consciência: \")\n",
        "            paciente[\"altura\"] = input(\"Altura: \")\n",
        "            paciente[\"peso\"] = input(\"Peso: \")\n",
        "            paciente[\"dextro\"] = input(\"Dextro: \")\n",
        "            paciente[\"dor\"] = input(\"Dor: \")\n",
        "\n",
        "            paciente[\"mews\"] = calcular_mews(paciente[\"fr\"], paciente[\"fc\"], paciente[\"pa_sistolica\"], paciente[\"temperatura\"])\n",
        "\n",
        "        pacientes.append(paciente)\n",
        "\n",
        "    with open(\"pacientes.json\", \"w\", encoding=\"utf-8\") as f:\n",
        "        json.dump(pacientes, f, ensure_ascii=False, indent=4)\n",
        "\n",
        "    print(\"Dados dos pacientes salvos em pacientes.json\")\n",
        "\n",
        "coletar_dados_paciente()\n"
      ],
      "metadata": {
        "id": "itt3_U_Xfm1H",
        "outputId": "babecbb8-5ce6-4fdc-83b5-f147c4c1b6fc",
        "colab": {
          "base_uri": "https://localhost:8080/"
        }
      },
      "execution_count": null,
      "outputs": [
        {
          "output_type": "stream",
          "name": "stdout",
          "text": [
            "Informe o número de pacientes (entre 3 e 5): 3\n",
            "Paciente 1:\n",
            "Informe a condição do paciente (Checklist, Pré-operatório, Alta): checklist\n",
            "Informe os detalhes: joão silva, 46 anos, rg - 847539518, extração pedra no rim esquerdo.\n",
            "Paciente 2:\n",
            "Informe a condição do paciente (Checklist, Pré-operatório, Alta): alta\n",
            "Informe os detalhes: maria santos, 76 anos, rg - 568522584, cirurgia - transplante de coração, recomendações - traca de curativo a cada 6 horas, evitar esforço e manter o retorno nas consultas.\n",
            "Paciente 3:\n",
            "Informe a condição do paciente (Checklist, Pré-operatório, Alta): pré-operatório\n",
            "Leito: 102k\n",
            "Nome do Paciente: karen\n",
            "Cirurgia: reconstrução do ligamento da perna esquerda\n",
            "Alergia: n\n",
            "Comorbidades: n\n",
            "Dieta: n\n",
            "Jejum: s\n",
            "Levante: s\n",
            "Diurese: s\n",
            "Pulseira-ID: membro superior esquerdo\n",
            "AVP: mse\n",
            "Banho: s\n",
            "Adonos: n\n",
            "Kanban: preenchido\n",
            "FC: 100\n",
            "FR: 95\n",
            "SAT: 100\n",
            "PA: 102\n",
            "PA-SISTÓLICA: 120\n",
            "T°: 36.5\n",
            "Nível de Consciência: alerta\n",
            "Altura: 1.66\n",
            "Peso: 102\n",
            "Dextro: 125\n",
            "Dor: n\n",
            "Dados dos pacientes salvos em pacientes.json\n"
          ]
        }
      ]
    }
  ],
  "metadata": {
    "colab": {
      "provenance": [],
      "include_colab_link": true
    },
    "kernelspec": {
      "display_name": "Python 3",
      "name": "python3"
    }
  },
  "nbformat": 4,
  "nbformat_minor": 0
}